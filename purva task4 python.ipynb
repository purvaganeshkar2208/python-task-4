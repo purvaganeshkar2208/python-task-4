{
 "cells": [
  {
   "cell_type": "markdown",
   "id": "bac70ab6-8a61-4ba1-9b25-bf2837e2afe7",
   "metadata": {},
   "source": [
    "# 1.clear"
   ]
  },
  {
   "cell_type": "code",
   "execution_count": 5,
   "id": "9379ddf9-ab8b-411d-891d-a77e13bd9622",
   "metadata": {},
   "outputs": [],
   "source": [
    "d = {'a':1 ,'b' : 2}\n",
    "d.clear()"
   ]
  },
  {
   "cell_type": "code",
   "execution_count": 7,
   "id": "d5ec2fd6-cdc8-49e6-835d-a516314e3540",
   "metadata": {},
   "outputs": [
    {
     "data": {
      "text/plain": [
       "{}"
      ]
     },
     "execution_count": 7,
     "metadata": {},
     "output_type": "execute_result"
    }
   ],
   "source": [
    "d"
   ]
  },
  {
   "cell_type": "markdown",
   "id": "f6022984-4085-4633-9b57-ed41b70535fc",
   "metadata": {},
   "source": [
    "# 2.copy"
   ]
  },
  {
   "cell_type": "code",
   "execution_count": 11,
   "id": "8b54ace9-10ee-4637-846b-6e2872f340e8",
   "metadata": {},
   "outputs": [],
   "source": [
    "a1={'a':2,'e':4}\n",
    "a2=a1.copy()"
   ]
  },
  {
   "cell_type": "code",
   "execution_count": 13,
   "id": "90a9cc12-50ea-468a-bc8b-0a929584f342",
   "metadata": {},
   "outputs": [
    {
     "name": "stdout",
     "output_type": "stream",
     "text": [
      "{'a': 2, 'e': 4}\n"
     ]
    }
   ],
   "source": [
    "print(a2)"
   ]
  },
  {
   "cell_type": "code",
   "execution_count": 15,
   "id": "5fb91b8d-3ae1-4cbf-8de5-90fed4a65191",
   "metadata": {},
   "outputs": [
    {
     "name": "stdout",
     "output_type": "stream",
     "text": [
      "{'a': 2, 'e': 4}\n"
     ]
    }
   ],
   "source": [
    "print(a1)"
   ]
  },
  {
   "cell_type": "markdown",
   "id": "28667f75-695d-4940-95db-ee0414750cb0",
   "metadata": {},
   "source": [
    "# 3.From keys"
   ]
  },
  {
   "cell_type": "code",
   "execution_count": 23,
   "id": "6d2aaebc-4d4e-426e-beae-48e9faacc1e4",
   "metadata": {},
   "outputs": [],
   "source": [
    "keys={ 'a':3,'b':4}\n",
    "c=dict.fromkeys(keys,1)"
   ]
  },
  {
   "cell_type": "code",
   "execution_count": 25,
   "id": "4802e6e2-2064-413f-abec-b09356e81819",
   "metadata": {},
   "outputs": [
    {
     "data": {
      "text/plain": [
       "{'a': 1, 'b': 1}"
      ]
     },
     "execution_count": 25,
     "metadata": {},
     "output_type": "execute_result"
    }
   ],
   "source": [
    "c\n"
   ]
  },
  {
   "cell_type": "markdown",
   "id": "bf5893c8-82cd-4bc9-a76d-4c344896ba51",
   "metadata": {},
   "source": [
    "# 4.get"
   ]
  },
  {
   "cell_type": "code",
   "execution_count": 30,
   "id": "57886e6e-3967-4402-846f-e7aaaab575f8",
   "metadata": {},
   "outputs": [
    {
     "name": "stdout",
     "output_type": "stream",
     "text": [
      "2\n"
     ]
    }
   ],
   "source": [
    "q ={'w':2,'r':7}\n",
    "print(q.get('w'))"
   ]
  },
  {
   "cell_type": "code",
   "execution_count": 34,
   "id": "e82b287c-0d37-4d6b-b40f-95e7c525c605",
   "metadata": {},
   "outputs": [
    {
     "name": "stdout",
     "output_type": "stream",
     "text": [
      "not found\n"
     ]
    }
   ],
   "source": [
    "print (q.get('g','not found'))"
   ]
  },
  {
   "cell_type": "markdown",
   "id": "ec259d5b-1b7b-4532-ac7f-2995a42ad6b1",
   "metadata": {},
   "source": [
    "# 5.Items"
   ]
  },
  {
   "cell_type": "code",
   "execution_count": 39,
   "id": "1d12083c-cd1e-430c-af16-183b4ee8bc8f",
   "metadata": {},
   "outputs": [
    {
     "name": "stdout",
     "output_type": "stream",
     "text": [
      "dict_items([('a', 'ferrari'), ('r', 'bmw')])\n"
     ]
    }
   ],
   "source": [
    "cars ={'a':'ferrari','r':'bmw'}\n",
    "print(cars.items())"
   ]
  },
  {
   "cell_type": "markdown",
   "id": "eebdc39e-b237-473d-898e-5262b21f49d2",
   "metadata": {},
   "source": [
    "# 6.keys"
   ]
  },
  {
   "cell_type": "code",
   "execution_count": 42,
   "id": "16f84bdd-b4ce-44e3-a547-ee3f8a688c38",
   "metadata": {},
   "outputs": [
    {
     "name": "stdout",
     "output_type": "stream",
     "text": [
      "dict_keys([1, 2])\n"
     ]
    }
   ],
   "source": [
    "dogs_name ={1:'giggi',2:'gabbar'}\n",
    "print(dogs_name.keys())"
   ]
  },
  {
   "cell_type": "markdown",
   "id": "f2b45dc6-8341-4977-8508-f595f08028f6",
   "metadata": {},
   "source": [
    "# 7.pop"
   ]
  },
  {
   "cell_type": "code",
   "execution_count": 51,
   "id": "3bc86648-1140-4753-b71b-55e9b87b148d",
   "metadata": {},
   "outputs": [
    {
     "name": "stdout",
     "output_type": "stream",
     "text": [
      "hi\n"
     ]
    }
   ],
   "source": [
    "a={2:'hi',3:'bye'}\n",
    "print(a.pop(2))"
   ]
  },
  {
   "cell_type": "markdown",
   "id": "10a3c5a2-7e25-4277-aea8-6ae42b5d8ae3",
   "metadata": {},
   "source": [
    "# 8.update"
   ]
  },
  {
   "cell_type": "code",
   "execution_count": 54,
   "id": "76292891-c40c-4850-911c-07bfb80bf058",
   "metadata": {},
   "outputs": [],
   "source": [
    "D ={'ding':'dong'}"
   ]
  },
  {
   "cell_type": "code",
   "execution_count": 56,
   "id": "3dbb5d7d-ecd9-4fbb-83cd-ccc3f2ec65c5",
   "metadata": {},
   "outputs": [
    {
     "data": {
      "text/plain": [
       "{'ding': 'dong'}"
      ]
     },
     "execution_count": 56,
     "metadata": {},
     "output_type": "execute_result"
    }
   ],
   "source": [
    "D"
   ]
  },
  {
   "cell_type": "code",
   "execution_count": 60,
   "id": "0dee3fd5-bb21-485b-8003-60aba60166f5",
   "metadata": {},
   "outputs": [],
   "source": [
    "D.update({'ping':'pong'})"
   ]
  },
  {
   "cell_type": "code",
   "execution_count": 62,
   "id": "52687d00-2d30-4829-aa6c-f6aa3e4d661f",
   "metadata": {},
   "outputs": [
    {
     "data": {
      "text/plain": [
       "{'ding': 'dong', 'ping': 'pong'}"
      ]
     },
     "execution_count": 62,
     "metadata": {},
     "output_type": "execute_result"
    }
   ],
   "source": [
    "D"
   ]
  },
  {
   "cell_type": "markdown",
   "id": "c2fdb657-ed6d-4105-b8ac-f1dc2c4778bf",
   "metadata": {},
   "source": [
    "# if else examples"
   ]
  },
  {
   "cell_type": "markdown",
   "id": "2504e5d6-5e3e-4049-9021-feccd18cbb46",
   "metadata": {},
   "source": [
    "# 1.check if number is positive or not "
   ]
  },
  {
   "cell_type": "code",
   "execution_count": 72,
   "id": "45d8c850-a52d-4372-9ad6-6cd5273653ef",
   "metadata": {},
   "outputs": [
    {
     "name": "stdin",
     "output_type": "stream",
     "text": [
      "enter num 2\n"
     ]
    },
    {
     "name": "stdout",
     "output_type": "stream",
     "text": [
      "num is positive\n"
     ]
    }
   ],
   "source": [
    "num = int(input(\"enter num\"))\n",
    "if num>=0:\n",
    "    print(\"num is positive\")\n",
    "else :\n",
    "    print(\"num negative\")"
   ]
  },
  {
   "cell_type": "markdown",
   "id": "6066292f-9a56-4960-9e83-db1cd69cc82c",
   "metadata": {},
   "source": [
    "# 2.check ifnum is even or odd"
   ]
  },
  {
   "cell_type": "code",
   "execution_count": 76,
   "id": "a37e13e4-fed2-4e82-914b-bcb72c6f6c8e",
   "metadata": {},
   "outputs": [
    {
     "name": "stdin",
     "output_type": "stream",
     "text": [
      "enter any num 3\n"
     ]
    },
    {
     "name": "stdout",
     "output_type": "stream",
     "text": [
      "num is odd\n"
     ]
    }
   ],
   "source": [
    "num = int(input(\"enter any num\"))\n",
    "if num % 2== 0:\n",
    "    print(\"num is even\")\n",
    "else:\n",
    "    print(\"num is odd\")\n",
    "          \n",
    "                "
   ]
  },
  {
   "cell_type": "markdown",
   "id": "b7b7a2c0-2e95-4867-afd5-f39b1a117df9",
   "metadata": {},
   "source": [
    "# 3.check if a person is within range"
   ]
  },
  {
   "cell_type": "code",
   "execution_count": 87,
   "id": "dfd69df3-b255-42f7-bbe2-be19a2ea48fb",
   "metadata": {},
   "outputs": [
    {
     "name": "stdin",
     "output_type": "stream",
     "text": [
      "enter number between 1 to 10 6\n"
     ]
    },
    {
     "name": "stdout",
     "output_type": "stream",
     "text": [
      "person is in range\n"
     ]
    }
   ],
   "source": [
    "num = int(input(\"enter number between 1 to 10\"))\n",
    "if    1<=num<= 10 :\n",
    "                print(\"person is in range\")\n",
    "                \n",
    "else:\n",
    "                print(\"person is not in range\")\n",
    "                "
   ]
  },
  {
   "cell_type": "markdown",
   "id": "97e85ec5-4269-45e1-98ec-bb28e1c431f4",
   "metadata": {},
   "source": [
    "# 4. adult or minor"
   ]
  },
  {
   "cell_type": "code",
   "execution_count": 94,
   "id": "ea2fadaa-d501-4bc2-b3e7-7ebe922eeb61",
   "metadata": {},
   "outputs": [
    {
     "name": "stdin",
     "output_type": "stream",
     "text": [
      "enter age 400\n"
     ]
    },
    {
     "name": "stdout",
     "output_type": "stream",
     "text": [
      "adult\n"
     ]
    }
   ],
   "source": [
    " age = int(input(\"enter age\"))\n",
    " if age>=18 :\n",
    "           print(\"adult\")\n",
    " else:\n",
    "          print(\"minor\") "
   ]
  },
  {
   "cell_type": "markdown",
   "id": "2a602ec7-b6ee-4635-b19c-f4b57ec3f9af",
   "metadata": {},
   "source": [
    "# 5.  check whether string is empty or not"
   ]
  },
  {
   "cell_type": "code",
   "execution_count": 105,
   "id": "274cd4bc-8d04-4e59-872b-5ba4635754ea",
   "metadata": {},
   "outputs": [
    {
     "name": "stdin",
     "output_type": "stream",
     "text": [
      "text here 0\n"
     ]
    },
    {
     "name": "stdout",
     "output_type": "stream",
     "text": [
      " string is not empty\n"
     ]
    }
   ],
   "source": [
    " text = str(input(\"text here\" ))\n",
    "if text:\n",
    "    print(\" string is not empty\")\n",
    "else :\n",
    "    print(\"string is empty\")"
   ]
  },
  {
   "cell_type": "markdown",
   "id": "d7bb8f0c-1014-4107-85d1-3bbc7beea284",
   "metadata": {},
   "source": [
    "# 6. check if num is divisible by 2 or 3"
   ]
  },
  {
   "cell_type": "code",
   "execution_count": 118,
   "id": "7c1425bc-0b34-4334-9e85-bc9969189caa",
   "metadata": {},
   "outputs": [
    {
     "name": "stdin",
     "output_type": "stream",
     "text": [
      "enter any num 6\n"
     ]
    },
    {
     "name": "stdout",
     "output_type": "stream",
     "text": [
      "num is divisible by both\n"
     ]
    }
   ],
   "source": [
    " num = int (input(\"enter any num\"))\n",
    "if num%3==0 and num%2==0:\n",
    "    print(\"num is divisible by both\")\n",
    "elif num%2==0:\n",
    "    print(\"num is dividible by 2\")\n",
    "elif num%3==0:\n",
    "    print(\"num is divisible by 3\")\n",
    "else:\n",
    "    print(\"num is not divisible by both values\")\n"
   ]
  },
  {
   "cell_type": "markdown",
   "id": "2727b4af-5aed-4e88-9e63-b1f90f886413",
   "metadata": {},
   "source": [
    "# 7.Check if a User is Eligible for a Driving License"
   ]
  },
  {
   "cell_type": "code",
   "execution_count": 121,
   "id": "e3cc727a-a52c-446b-b9ea-d87b2b73064f",
   "metadata": {},
   "outputs": [
    {
     "name": "stdin",
     "output_type": "stream",
     "text": [
      "enter your age 50\n"
     ]
    },
    {
     "name": "stdout",
     "output_type": "stream",
     "text": [
      "you're eligible\n"
     ]
    }
   ],
   "source": [
    "age = int(input(\"enter your age\"))\n",
    "if age>=16:\n",
    "    print(\"you're eligible\")\n",
    "else:\n",
    "    print(\"you're eligible\")\n",
    "          "
   ]
  },
  {
   "cell_type": "markdown",
   "id": "60d70d52-b9f0-41d7-89bf-9a7b64f2cd33",
   "metadata": {},
   "source": [
    "# 8.Check if a Number is a Perfect Square"
   ]
  },
  {
   "cell_type": "code",
   "execution_count": 134,
   "id": "543f78a3-0554-4ee5-84d1-46bc0932f3fa",
   "metadata": {},
   "outputs": [
    {
     "name": "stdin",
     "output_type": "stream",
     "text": [
      "enter num 3\n"
     ]
    },
    {
     "name": "stdout",
     "output_type": "stream",
     "text": [
      "it is not a perfect sq.root\n"
     ]
    }
   ],
   "source": [
    "import math \n",
    "num = int(input(\"enter num\"))\n",
    "root = math.isqrt(num)\n",
    "if root*root==num:\n",
    "    print(\"it is a perfect sq.root\")\n",
    "else:\n",
    "    print(\"it is not a perfect sq.root\")"
   ]
  },
  {
   "cell_type": "markdown",
   "id": "792151fe-43ab-4e25-9e4e-d71c4768d79b",
   "metadata": {},
   "source": [
    "# 9. Check if a User is Logged In Based on Username and Password"
   ]
  },
  {
   "cell_type": "code",
   "execution_count": 141,
   "id": "4b4f8591-0dff-4feb-a156-663df1717012",
   "metadata": {},
   "outputs": [
    {
     "name": "stdin",
     "output_type": "stream",
     "text": [
      "enter username admin123\n",
      "enter password sdcdsg\n"
     ]
    },
    {
     "name": "stdout",
     "output_type": "stream",
     "text": [
      "login error\n"
     ]
    }
   ],
   "source": [
    "username = input(\"enter username\")\n",
    "password = input(\"enter password\")\n",
    "if username ==\"admin\" and password==\"admin123\":\n",
    "    print(\"login successful\")\n",
    "else:\n",
    "    print(\"login error\")"
   ]
  },
  {
   "cell_type": "markdown",
   "id": "b5e0fece-20f7-4734-9d6a-331df4d8fc41",
   "metadata": {},
   "source": [
    "# 10.check if date is valid\n"
   ]
  },
  {
   "cell_type": "code",
   "execution_count": 144,
   "id": "530f9591-279a-4507-81c4-32bafbc1864e",
   "metadata": {},
   "outputs": [
    {
     "name": "stdin",
     "output_type": "stream",
     "text": [
      "enter date 1000\n",
      "enter month 10\n",
      "enter year 2\n"
     ]
    },
    {
     "name": "stdout",
     "output_type": "stream",
     "text": [
      "invalid date\n"
     ]
    }
   ],
   "source": [
    "day = int(input(\"enter date\"))\n",
    "month = int(input(\"enter month\"))\n",
    "year= int(input(\"enter year\"))\n",
    "if    1<=day <=31 and 1<=month<=12 and year >0:\n",
    "    print(\"valid date\")\n",
    "else:\n",
    "    print(\"invalid date\")\n",
    "          "
   ]
  },
  {
   "cell_type": "code",
   "execution_count": null,
   "id": "83708dac-2131-44dc-ae27-c7bb7dade2d4",
   "metadata": {},
   "outputs": [],
   "source": []
  }
 ],
 "metadata": {
  "kernelspec": {
   "display_name": "Python 3 (ipykernel)",
   "language": "python",
   "name": "python3"
  },
  "language_info": {
   "codemirror_mode": {
    "name": "ipython",
    "version": 3
   },
   "file_extension": ".py",
   "mimetype": "text/x-python",
   "name": "python",
   "nbconvert_exporter": "python",
   "pygments_lexer": "ipython3",
   "version": "3.12.4"
  }
 },
 "nbformat": 4,
 "nbformat_minor": 5
}
